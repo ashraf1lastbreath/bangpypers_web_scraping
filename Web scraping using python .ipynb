{
 "cells": [
  {
   "cell_type": "code",
   "execution_count": 63,
   "metadata": {
    "collapsed": true
   },
   "outputs": [],
   "source": [
    "import requests\n",
    "import random\n",
    "from bs4 import BeautifulSoup\n",
    "\n",
    "url = \"http://stats.espncricinfo.com/indian-premier-league-2015/engine/records/team/match_results.html?id=11001;type=tournament\"\n",
    "headers = {'User-Agent': 'Mozilla/5.0 (compatible; Googlebot/2.1; +http://www.google.com/bot.html)'}\n",
    "proxies = [\"118.151.209.114\",\"124.124.1.178\"]\n",
    "res = requests.get(url, headers=headers, proxies=random.choice(proxies))\n",
    "html_string = res.content"
   ]
  },
  {
   "cell_type": "code",
   "execution_count": 64,
   "metadata": {
    "scrolled": true
   },
   "outputs": [
    {
     "name": "stdout",
     "output_type": "stream",
     "text": [
      "[u'Team 1', u'Team 2', u'Winner', u'Margin', u'Ground', u'Match Date', u'Scorecard']\n"
     ]
    }
   ],
   "source": [
    "\n",
    "# grab the content \n",
    "url = \"http://stats.espncricinfo.com/indian-premier-league-2015/engine/records/team/match_results.html?id=11001;type=tournament\"\n",
    "headers = {'User-Agent': 'Mozilla/5.0 (compatible; Googlebot/2.1; +http://www.google.com/bot.html)'}\n",
    "proxies = [\"118.151.209.114\",\"124.124.1.178\"]\n",
    "res = requests.get(url, headers=headers, proxies=random.choice(proxies))\n",
    "html_string = res.content\n",
    "\n",
    "#parse the content \n",
    "soup = BeautifulSoup(html_string,'html.parser')\n",
    "table_div = soup.findAll('div',{'class':'div630Pad'})\n",
    "content_tables = table_div.findAll('table')\n",
    "match_summary_table = content_tables[0]\n",
    "table_rows = match_summary_table.findAll('tr')\n",
    "headers = [each_header.text for each_header in match_summary_table.findAll('th')]\n",
    "print headers \n",
    "table_body_content = match_summary_table.tbody.findAll('tr')\n",
    "for each_row in table_body_content:\n",
    "    tds = each_row.findAll('td')\n",
    "    row_data = [ td.text for td in tds ]\n",
    "    tds = each_row.findAll('td')\n",
    "    row_data = [td.text for td in tds[0:-1]]\n",
    "    if tds[-1].a:\n",
    "        row_data.append('http://stats.espncricinfo.com' + tds[-1].a['href'])\n",
    "    else:\n",
    "        row_data.append('NA')\n",
    "    #print row_data"
   ]
  },
  {
   "cell_type": "code",
   "execution_count": 65,
   "metadata": {},
   "outputs": [
    {
     "name": "stdout",
     "output_type": "stream",
     "text": [
      "[u'Mum Indians', u'Supergiants', u'Supergiants', u'9 wickets', u'Mumbai', u'Apr 9, 2016', u'http://stats.espncricinfo.com/indian-premier-league-2015/engine/match/980901.html']\n",
      "[u'KKR', u'Daredevils', u'KKR', u'9 wickets', u'Kolkata', u'Apr 10, 2016', u'http://stats.espncricinfo.com/indian-premier-league-2015/engine/match/980903.html']\n",
      "[u'Kings XI', u'Guj Lions', u'Guj Lions', u'5 wickets', u'Mohali', u'Apr 11, 2016', u'http://stats.espncricinfo.com/indian-premier-league-2015/engine/match/980905.html']\n",
      "[u'RCB', u'Sunrisers', u'RCB', u'45 runs', u'Bengaluru', u'Apr 12, 2016', u'http://stats.espncricinfo.com/indian-premier-league-2015/engine/match/980907.html']\n",
      "[u'KKR', u'Mum Indians', u'Mum Indians', u'6 wickets', u'Kolkata', u'Apr 13, 2016', u'http://stats.espncricinfo.com/indian-premier-league-2015/engine/match/980909.html']\n",
      "[u'Guj Lions', u'Supergiants', u'Guj Lions', u'7 wickets', u'Rajkot', u'Apr 14, 2016', u'http://stats.espncricinfo.com/indian-premier-league-2015/engine/match/980911.html']\n"
     ]
    }
   ],
   "source": [
    "for count, each_row in enumerate(table_body_content):\n",
    "    tds = each_row.findAll('td')\n",
    "    row_data = [ td.text for td in tds ]\n",
    "    tds = each_row.findAll('td')\n",
    "    row_data = [td.text for td in tds[0:-1]]\n",
    "    if tds[-1].a:\n",
    "        row_data.append('http://stats.espncricinfo.com' + tds[-1].a['href'])\n",
    "    else:\n",
    "        row_data.append('NA')\n",
    "    print row_data\n",
    "    if count == 5:\n",
    "        break"
   ]
  },
  {
   "cell_type": "code",
   "execution_count": null,
   "metadata": {
    "collapsed": true
   },
   "outputs": [],
   "source": []
  }
 ],
 "metadata": {
  "kernelspec": {
   "display_name": "Python 2",
   "language": "python",
   "name": "python2"
  },
  "language_info": {
   "codemirror_mode": {
    "name": "ipython",
    "version": 2
   },
   "file_extension": ".py",
   "mimetype": "text/x-python",
   "name": "python",
   "nbconvert_exporter": "python",
   "pygments_lexer": "ipython2",
   "version": "2.7.12+"
  }
 },
 "nbformat": 4,
 "nbformat_minor": 2
}
